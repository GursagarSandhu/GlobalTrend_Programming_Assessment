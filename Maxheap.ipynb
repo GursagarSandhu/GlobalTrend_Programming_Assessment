{
 "cells": [
  {
   "cell_type": "code",
   "execution_count": 1,
   "metadata": {},
   "outputs": [
    {
     "name": "stdout",
     "output_type": "stream",
     "text": [
      "Added 55 to the heap.\n",
      "Current heap: [55]\n",
      "Added 65 to the heap.\n",
      "Current heap: [65, 55]\n",
      "Added 14 to the heap.\n",
      "Current heap: [65, 55, 14]\n",
      "Added 52 to the heap.\n",
      "Current heap: [65, 55, 14, 52]\n",
      "Added 35 to the heap.\n",
      "Current heap: [65, 55, 14, 52, 35]\n",
      "Current heap: [65, 55, 14, 52, 35]\n",
      "Added 3 to the heap.\n",
      "Current heap: [65, 55, 14, 52, 35, 3]\n",
      "The maximum value is 65.\n",
      "The maximum value is 65.\n"
     ]
    },
    {
     "data": {
      "text/plain": [
       "65"
      ]
     },
     "execution_count": 1,
     "metadata": {},
     "output_type": "execute_result"
    }
   ],
   "source": [
    "class MaxHeap:\n",
    "    def __init__(self):\n",
    "        self.heap = []\n",
    "        self.initialize_heap()\n",
    "\n",
    "    def initialize_heap(self):\n",
    "        num_values = int(input(\"How many values do you want to start with? \"))\n",
    "        for _ in range(num_values):\n",
    "            val = int(input(\"Enter a value to add: \"))\n",
    "            self.add_value(val)\n",
    "        self.show_heap()\n",
    "\n",
    "    def add_value(self, val):\n",
    "        self.heap.append(val)\n",
    "        self._after_adding(len(self.heap) - 1)\n",
    "        print(f\"Added {val} to the heap.\")\n",
    "        self.show_heap()\n",
    "\n",
    "    def remove_max(self):\n",
    "        if len(self.heap) == 0:\n",
    "            print(\"Heap is empty. Nothing to remove.\")\n",
    "            return None\n",
    "        if len(self.heap) == 1:\n",
    "            max_val = self.heap.pop()\n",
    "            print(f\"Removed {max_val} from the heap.\")\n",
    "            self.show_heap()\n",
    "            return max_val\n",
    "        \n",
    "        max_val = self.heap[0]\n",
    "        self.heap[0] = self.heap.pop()\n",
    "        self._after_removing(0)\n",
    "        print(f\"Removed {max_val} from the heap.\")\n",
    "        self.show_heap()\n",
    "        return max_val\n",
    "\n",
    "    def get_max(self):\n",
    "        if len(self.heap) == 0:\n",
    "            print(\"Heap is empty.\")\n",
    "            return None\n",
    "        print(f\"The maximum value is {self.heap[0]}.\")\n",
    "        return self.heap[0]\n",
    "\n",
    "    def add(self):\n",
    "        num_values = int(input(\"No. of values to add:\"))\n",
    "        for _ in range(num_values):\n",
    "            val = int(input(\"Enter a value to add to the heap: \"))\n",
    "        self.add_value(val)\n",
    "\n",
    "    def remove(self):\n",
    "        confirmation = input(\"Do you want to remove the maximum value from the heap? (yes/no): \")\n",
    "        if confirmation.lower() == 'yes':\n",
    "            self.remove_max()\n",
    "\n",
    "    def show_heap(self):\n",
    "        print(\"Current heap:\", self.heap)\n",
    "\n",
    "    def _after_adding(self, index):\n",
    "        parent_index = (index - 1) // 2\n",
    "        if index > 0 and self.heap[index] > self.heap[parent_index]:\n",
    "            self.heap[index], self.heap[parent_index] = self.heap[parent_index], self.heap[index]\n",
    "            self._after_adding(parent_index)\n",
    "\n",
    "    def _after_removing(self, index):\n",
    "        largest = index\n",
    "        left_child_index = 2 * index + 1\n",
    "        right_child_index = 2 * index + 2\n",
    "\n",
    "        if left_child_index < len(self.heap) and self.heap[left_child_index] > self.heap[largest]:\n",
    "            largest = left_child_index\n",
    "        if right_child_index < len(self.heap) and self.heap[right_child_index] > self.heap[largest]:\n",
    "            largest = right_child_index\n",
    "\n",
    "        if largest != index:\n",
    "            self.heap[index], self.heap[largest] = self.heap[largest], self.heap[index]\n",
    "            self._after_removing(largest)\n",
    "\n",
    "# Example usage:\n",
    "max_heap = MaxHeap()\n",
    "max_heap.add()\n",
    "max_heap.get_max()\n",
    "max_heap.remove()\n",
    "max_heap.get_max()\n"
   ]
  }
 ],
 "metadata": {
  "kernelspec": {
   "display_name": "Python 3",
   "language": "python",
   "name": "python3"
  },
  "language_info": {
   "codemirror_mode": {
    "name": "ipython",
    "version": 3
   },
   "file_extension": ".py",
   "mimetype": "text/x-python",
   "name": "python",
   "nbconvert_exporter": "python",
   "pygments_lexer": "ipython3",
   "version": "3.12.3"
  }
 },
 "nbformat": 4,
 "nbformat_minor": 2
}
