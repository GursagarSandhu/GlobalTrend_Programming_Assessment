{
 "cells": [
  {
   "cell_type": "code",
   "execution_count": 4,
   "metadata": {},
   "outputs": [
    {
     "name": "stdout",
     "output_type": "stream",
     "text": [
      "Result= 10\n"
     ]
    }
   ],
   "source": [
    "def arthimatic_operation():\n",
    "    a=int(input(\"enter 1st number:\"))\n",
    "    b=int(input(\"enter 2nd number:\"))\n",
    "    operator=input(\"enter the operator(+,-,/,*,//,%,**):\")\n",
    "    if operator=='+':\n",
    "        print(\"Result=\",a+b)\n",
    "    elif operator=='-':\n",
    "        print(\"Result=\",a-b)\n",
    "    elif operator=='/':\n",
    "        print(\"Result=\",a/b)\n",
    "    elif operator=='*':\n",
    "        print(\"Result=\",a*b)\n",
    "    elif operator=='//':\n",
    "        print(\"Result=\",a//b)\n",
    "    elif operator=='%':\n",
    "        print(\"Result=\",a%b)\n",
    "    elif operator=='**':\n",
    "        print(\"Result=\",a**b)\n",
    "    else:\n",
    "        print(\"wrong operator\")\n",
    "    \n",
    "arthimatic_operation()"
   ]
  }
 ],
 "metadata": {
  "kernelspec": {
   "display_name": "Python 3",
   "language": "python",
   "name": "python3"
  },
  "language_info": {
   "codemirror_mode": {
    "name": "ipython",
    "version": 3
   },
   "file_extension": ".py",
   "mimetype": "text/x-python",
   "name": "python",
   "nbconvert_exporter": "python",
   "pygments_lexer": "ipython3",
   "version": "3.12.3"
  }
 },
 "nbformat": 4,
 "nbformat_minor": 2
}
