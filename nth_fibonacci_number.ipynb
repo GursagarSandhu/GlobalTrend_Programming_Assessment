{
 "cells": [
  {
   "cell_type": "code",
   "execution_count": 7,
   "metadata": {},
   "outputs": [
    {
     "data": {
      "text/plain": [
       "89"
      ]
     },
     "execution_count": 7,
     "metadata": {},
     "output_type": "execute_result"
    }
   ],
   "source": [
    "def fibonacci(number):\n",
    "        if number<=0:\n",
    "            print(\"wrong mt kr\")\n",
    "        \n",
    "        elif number==1:\n",
    "            return 0\n",
    "        elif number==2:\n",
    "            return 1\n",
    "        else:\n",
    "            return  fibonacci(number-1) + fibonacci(number-2)\n",
    "            \n",
    "n=int(input(\"enter the Fibonacci number wanted:\"))\n",
    "fibonacci(n)"
   ]
  }
 ],
 "metadata": {
  "kernelspec": {
   "display_name": "Python 3",
   "language": "python",
   "name": "python3"
  },
  "language_info": {
   "codemirror_mode": {
    "name": "ipython",
    "version": 3
   },
   "file_extension": ".py",
   "mimetype": "text/x-python",
   "name": "python",
   "nbconvert_exporter": "python",
   "pygments_lexer": "ipython3",
   "version": "3.12.3"
  }
 },
 "nbformat": 4,
 "nbformat_minor": 2
}
