{
 "cells": [
  {
   "cell_type": "code",
   "execution_count": 4,
   "metadata": {},
   "outputs": [
    {
     "name": "stdout",
     "output_type": "stream",
     "text": [
      "[5, 6]\n",
      "[4, 8]\n"
     ]
    }
   ],
   "source": [
    "# TRANSPOSE MATRIX:\n",
    "\n",
    "def transpose_2D_matrix(a,b,c,d):\n",
    "    A = [[a,b],[c,d]]\n",
    "\n",
    "    T = [[A[j][i] for j in range (len(A))] for i in range (len(A[0]))]\n",
    "\n",
    "    for i in T:\n",
    "        print (i)\n",
    "    \n",
    "num1=int(input(\"enter 1st value of matrix\"))\n",
    "num2=int(input(\"enter 2nd value of matrix\"))\n",
    "num3=int(input(\"enter 3rd value of matrix\"))\n",
    "num4=int(input(\"enter 4th value of matrix\"))\n",
    "\n",
    "transpose_2D_matrix(num1,num2,num3,num4)"
   ]
  }
 ],
 "metadata": {
  "kernelspec": {
   "display_name": "Python 3",
   "language": "python",
   "name": "python3"
  },
  "language_info": {
   "codemirror_mode": {
    "name": "ipython",
    "version": 3
   },
   "file_extension": ".py",
   "mimetype": "text/x-python",
   "name": "python",
   "nbconvert_exporter": "python",
   "pygments_lexer": "ipython3",
   "version": "3.12.3"
  }
 },
 "nbformat": 4,
 "nbformat_minor": 2
}
