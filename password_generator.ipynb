{
 "cells": [
  {
   "cell_type": "code",
   "execution_count": 4,
   "metadata": {},
   "outputs": [
    {
     "name": "stdout",
     "output_type": "stream",
     "text": [
      "\"0Pf:9iD\n"
     ]
    }
   ],
   "source": [
    "import string\n",
    "import random\n",
    "def generate_password(min_uppercase=2, min_digits=2, min_lowercase=2, min_symbols=2):\n",
    "    if min_uppercase < 1:\n",
    "        raise ValueError(\"Uppercase count must be at least 1\")\n",
    "    if min_lowercase < 1:\n",
    "        raise ValueError(\"Lowercase count must be at least 1\")\n",
    "    \n",
    "    uppercase_letters = ''.join((random.choice(string.ascii_uppercase) for _ in range(min_uppercase)))\n",
    "    digits = ''.join((random.choice(string.digits) for _ in range(min_digits)))\n",
    "    lowercase_letters = ''.join((random.choice(string.ascii_lowercase) for _ in range(min_lowercase)))\n",
    "    symbols = ''.join((random.choice(string.punctuation) for _ in range(min_symbols)))\n",
    "\n",
    "    combined_characters = list(uppercase_letters + digits + lowercase_letters + symbols)\n",
    "    random.shuffle(combined_characters)\n",
    "\n",
    "    password = ''.join(combined_characters)\n",
    "    return password\n",
    "\n",
    "password = generate_password(min_uppercase=2, min_digits=2, min_lowercase=2, min_symbols=2)\n",
    "print(password)\n"
   ]
  }
 ],
 "metadata": {
  "kernelspec": {
   "display_name": "Python 3",
   "language": "python",
   "name": "python3"
  },
  "language_info": {
   "codemirror_mode": {
    "name": "ipython",
    "version": 3
   },
   "file_extension": ".py",
   "mimetype": "text/x-python",
   "name": "python",
   "nbconvert_exporter": "python",
   "pygments_lexer": "ipython3",
   "version": "3.12.3"
  }
 },
 "nbformat": 4,
 "nbformat_minor": 2
}
